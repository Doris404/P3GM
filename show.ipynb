{
 "cells": [
  {
   "cell_type": "code",
   "execution_count": 36,
   "metadata": {},
   "outputs": [],
   "source": [
    "import json\n",
    "import glob\n",
    "import numpy as np"
   ]
  },
  {
   "cell_type": "code",
   "execution_count": 37,
   "metadata": {},
   "outputs": [],
   "source": [
    "credit_files = glob.glob(\"/home/takagi/workspace/p3gm_for_publish/result/credit/20211229-134530/result_*.json\")\n",
    "esr_files = glob.glob(\"/home/takagi/workspace/p3gm_for_publish/result/esr/20211222-182951/result_*.json\")\n",
    "isolet_files = glob.glob(\"/home/takagi/workspace/p3gm_for_publish/result/isolet/20211222-173651/result_*.json\")\n",
    "adult_files = glob.glob(\"/home/takagi/workspace/p3gm_for_publish/result/adult/20211222-191348/result_*.json\")\n",
    "fashion_files = glob.glob(\"/home/takagi/workspace/p3gm_for_publish/result/fashion/20211223-022831/result_*.json\")\n",
    "mnist_files = glob.glob(\"/home/takagi/workspace/p3gm_for_publish/result/mnist/20211225-033423/result_*.json\")\n"
   ]
  },
  {
   "cell_type": "code",
   "execution_count": 38,
   "metadata": {},
   "outputs": [],
   "source": [
    "def ave_score(files, key=\"average\"):\n",
    "    scores = []\n",
    "    for file in files:\n",
    "        with open(file) as f:\n",
    "            scores.append(json.load(f)[key])\n",
    "    return np.average(scores, axis=0)\n",
    "\n",
    "def ave_score_mnist(files):\n",
    "    scores = []\n",
    "    for file in files:\n",
    "        with open(file) as f:\n",
    "            scores.append(float(f.readline()[1:-1]))\n",
    "    return np.average(scores, axis=0)"
   ]
  },
  {
   "cell_type": "code",
   "execution_count": 39,
   "metadata": {},
   "outputs": [
    {
     "name": "stdout",
     "output_type": "stream",
     "text": [
      "credit [0.8991467  0.76335005 0.97619048]\n",
      "esr [0.88011613 0.76715153 0.8783913 ]\n",
      "isolet [0.74978981 0.39500469 0.81969551]\n",
      "adult [0.59723727 0.82139561 0.76274565]\n",
      "mnist 0.793999993801117\n",
      "fashion 0.7485499978065491\n"
     ]
    }
   ],
   "source": [
    "print(\"credit\", ave_score(credit_files))\n",
    "print(\"esr\", ave_score(esr_files))\n",
    "print(\"isolet\", ave_score(isolet_files))\n",
    "print(\"adult\", ave_score(adult_files))\n",
    "print(\"mnist\", ave_score_mnist(mnist_files))\n",
    "print(\"fashion\", ave_score_mnist(fashion_files))"
   ]
  },
  {
   "cell_type": "code",
   "execution_count": 40,
   "metadata": {},
   "outputs": [],
   "source": [
    "credit_files = glob.glob(\"/home/takagi/workspace/p3gm_for_publish/result/credit/20211229-134530/result_*.json\")"
   ]
  },
  {
   "cell_type": "code",
   "execution_count": 41,
   "metadata": {},
   "outputs": [
    {
     "name": "stdout",
     "output_type": "stream",
     "text": [
      "credit LR [0.92644188 0.84354669 0.98590476]\n",
      "credit XgBoost [0.84928696 0.62185406 0.9697619 ]\n",
      "credit ADB [0.90262206 0.77437142 0.96761905]\n",
      "credit GBC [0.91823591 0.81362804 0.98147619]\n"
     ]
    }
   ],
   "source": [
    "print(\"credit LR\", ave_score(credit_files, \"LR\"))\n",
    "print(\"credit XgBoost\", ave_score(credit_files, \"XgBoost\"))\n",
    "print(\"credit ADB\", ave_score(credit_files, \"ADB\"))\n",
    "print(\"credit GBC\", ave_score(credit_files, \"GBC\"))"
   ]
  },
  {
   "cell_type": "code",
   "execution_count": 42,
   "metadata": {},
   "outputs": [],
   "source": [
    "credit_files_01 = glob.glob(\"/home/takagi/workspace/p3gm_for_publish/result/credit/20211225-192346/result_*.json\")\n",
    "credit_files_05 = glob.glob(\"/home/takagi/workspace/p3gm_for_publish/result/credit/20211225-192856/result_*.json\")\n",
    "credit_files_1 = glob.glob(\"/home/takagi/workspace/p3gm_for_publish/result/credit/20211224-001917/result_*.json\")\n",
    "credit_files_5 = glob.glob(\"/home/takagi/workspace/p3gm_for_publish/result/credit/20211225-194846/result_*.json\")"
   ]
  },
  {
   "cell_type": "code",
   "execution_count": 43,
   "metadata": {},
   "outputs": [
    {
     "name": "stdout",
     "output_type": "stream",
     "text": [
      "credit_01 [0.51427458 0.1887907  0.95075   ]\n",
      "credit_05 [0.58635921 0.28171894 0.95407143]\n",
      "credit_1 [0.88869761 0.73412329 0.9762619 ]\n",
      "credit_5 [0.91292996 0.79922432 0.97991667]\n"
     ]
    }
   ],
   "source": [
    "print(\"credit_01\", ave_score(credit_files_01))\n",
    "print(\"credit_05\", ave_score(credit_files_05))\n",
    "print(\"credit_1\", ave_score(credit_files_1))\n",
    "print(\"credit_5\", ave_score(credit_files_5))"
   ]
  },
  {
   "cell_type": "code",
   "execution_count": 44,
   "metadata": {},
   "outputs": [],
   "source": [
    "credit_files_100 = glob.glob(\"/home/takagi/workspace/p3gm_for_publish/result/credit/20211230-003808/result_*.json\")\n",
    "credit_files_30 = glob.glob(\"/home/takagi/workspace/p3gm_for_publish/result/credit/20211229-215758/result_*.json\")\n",
    "credit_files_15 = glob.glob(\"/home/takagi/workspace/p3gm_for_publish/result/credit/20211229-134530/result_*.json\")\n",
    "credit_files_10 = glob.glob(\"/home/takagi/workspace/p3gm_for_publish/result/credit/20211224-001917/result_*.json\")\n",
    "credit_files_7 = glob.glob(\"/home/takagi/workspace/p3gm_for_publish/result/credit/20211229-154347/result_*.json\")\n",
    "credit_files_5 = glob.glob(\"/home/takagi/workspace/p3gm_for_publish/result/credit/20211229-174503/result_*.json\")\n",
    "credit_files_4_5 = glob.glob(\"/home/takagi/workspace/p3gm_for_publish/result/credit/20211229-194116/result_*.json\")\n",
    "credit_files_4_3 = glob.glob(\"/home/takagi/workspace/p3gm_for_publish/result/credit/20211229-213354/result_*.json\")"
   ]
  },
  {
   "cell_type": "code",
   "execution_count": 46,
   "metadata": {},
   "outputs": [
    {
     "name": "stdout",
     "output_type": "stream",
     "text": [
      "credit_100 [0.67955049 0.41779194 0.95395238] 0\n",
      "credit_30 [0.89299966 0.74245784 0.97558333] 0.1\n",
      "credit_15 [0.8991467  0.76335005 0.97619048] 0.18\n",
      "credit_10 [0.88869761 0.73412329 0.9762619 ] 0.28\n",
      "credit_7 [0.87468009 0.71730239 0.97410714] 0.44\n",
      "credit_5 [0.82689473 0.59468154 0.96782143] 0.77\n",
      "credit_4_5 [0.08549604 0.0636623  0.09703571] 0.9\n",
      "credit_4_3 [0.76353196 0.48818096 0.94782143] 1\n"
     ]
    }
   ],
   "source": [
    "print(\"credit_100\", ave_score(credit_files_100), 0)\n",
    "print(\"credit_30\", ave_score(credit_files_30), 0.1)\n",
    "print(\"credit_15\", ave_score(credit_files_15), 0.18)\n",
    "print(\"credit_10\", ave_score(credit_files_10), 0.28)\n",
    "print(\"credit_7\", ave_score(credit_files_7), 0.44)\n",
    "print(\"credit_5\", ave_score(credit_files_5), 0.77)\n",
    "print(\"credit_4_5\", ave_score(credit_files_4_5), 0.9)\n",
    "print(\"credit_4_3\", ave_score(credit_files_4_3), 1)"
   ]
  },
  {
   "cell_type": "code",
   "execution_count": 10,
   "metadata": {},
   "outputs": [],
   "source": [
    "mnist_files_2 = glob.glob(\"/home/takagi/workspace/p3gm_for_publish/result/mnist/20211227-121841/result_*.json\")\n",
    "mnist_files_5 = glob.glob(\"/home/takagi/workspace/p3gm_for_publish/result/mnist/20211227-160553/result_*.json\")\n",
    "mnist_files_10 = glob.glob(\"/home/takagi/workspace/p3gm_for_publish/result/mnist/20211227-200147/result_*.json\")\n",
    "mnist_files_30 = glob.glob(\"/home/takagi/workspace/p3gm_for_publish/result/mnist/20211225-033423/result_*.json\")\n",
    "mnist_files_50 = glob.glob(\"/home/takagi/workspace/p3gm_for_publish/result/mnist/20211227-235838/result_*.json\")\n",
    "mnist_files_100 = glob.glob(\"/home/takagi/workspace/p3gm_for_publish/result/mnist/20211228-040059/result_*.json\")\n",
    "mnist_files_500 = glob.glob(\"/home/takagi/workspace/p3gm_for_publish/result/mnist/20211228-080443/result_*.json\")"
   ]
  },
  {
   "cell_type": "code",
   "execution_count": 11,
   "metadata": {},
   "outputs": [
    {
     "name": "stdout",
     "output_type": "stream",
     "text": [
      "z_dim_2 0.4331857144832611\n",
      "z_dim_5 0.6726071387529373\n",
      "z_dim_10 0.756028562784195\n",
      "z_dim_30 0.793999993801117\n",
      "z_dim_50 0.7647142857313156\n",
      "z_dim_100 0.6620000004768372\n",
      "z_dim_500 0.11648214049637318\n"
     ]
    }
   ],
   "source": [
    "print(\"z_dim_2\", ave_score_mnist(mnist_files_2))\n",
    "print(\"z_dim_5\", ave_score_mnist(mnist_files_5))\n",
    "print(\"z_dim_10\", ave_score_mnist(mnist_files_10))\n",
    "print(\"z_dim_30\", ave_score_mnist(mnist_files_30))\n",
    "print(\"z_dim_50\", ave_score_mnist(mnist_files_50))\n",
    "print(\"z_dim_100\", ave_score_mnist(mnist_files_100))\n",
    "print(\"z_dim_500\", ave_score_mnist(mnist_files_500))"
   ]
  },
  {
   "cell_type": "code",
   "execution_count": 51,
   "metadata": {},
   "outputs": [],
   "source": [
    "import pandas as pd\n",
    "import numpy as np\n",
    "import bisect\n",
    "from sklearn.preprocessing import LabelEncoder\n",
    "\n",
    "def descritize(df, syn_df, n_bins):\n",
    "    obj_col = list(df.select_dtypes(include='object').columns)\n",
    "    le = LabelEncoder()\n",
    "    for column in df.columns:\n",
    "        if column in obj_col:\n",
    "            le = le.fit(df[column])\n",
    "            df[column] = le.transform(df[column])\n",
    "            syn_df[column] = le.transform(syn_df[column])\n",
    "        min_val = min(df[column])\n",
    "        max_val = max(df[column])\n",
    "        domain = np.linspace(min_val,max_val,n_bins)\n",
    "        def convert_to_discritize(v):\n",
    "            return bisect.bisect(domain,v) -1\n",
    "\n",
    "        df[column] = pd.Series(map(convert_to_discritize, df[column]))\n",
    "        syn_df[column] = pd.Series(map(convert_to_discritize, syn_df[column]))\n",
    "\n",
    "def construct_empilical_2_way_marginals(df, column_1, column_2, n_bins):\n",
    "    data_column_1 = df[column_1]\n",
    "    data_column_2 = df[column_2]\n",
    "\n",
    "    dist = np.zeros((n_bins, n_bins))\n",
    "\n",
    "    for value_column_1, value_column_2 in zip(data_column_1, data_column_2):\n",
    "        dist[value_column_1, value_column_2] += 1\n",
    "\n",
    "    dist /= dist.sum()\n",
    "\n",
    "    return dist\n",
    "\n",
    "def total_valiation_distance(dist_1, dist_2):\n",
    "    return np.sum(np.abs(dist_1 - dist_2)) / 2\n",
    "\n",
    "def compute_tv_all_2_way_marginals(df, syn_df, n_bins):\n",
    "    tvs = []\n",
    "    descritize(df, syn_df, n_bins)\n",
    "    for column_1 in df:\n",
    "        for column_2 in df:\n",
    "            dist_1 = construct_empilical_2_way_marginals(df, column_1, column_2, n_bins)\n",
    "            dist_2 = construct_empilical_2_way_marginals(syn_df, column_1, column_2, n_bins)\n",
    "            tvs.append(total_valiation_distance(dist_1, dist_2))\n",
    "    return np.average(tvs)"
   ]
  },
  {
   "cell_type": "code",
   "execution_count": 52,
   "metadata": {},
   "outputs": [
    {
     "name": "stdout",
     "output_type": "stream",
     "text": [
      "credit 0.24108946024125014\n",
      "isolet 0.3028733307315111\n",
      "esr 0.06538513531952644\n",
      "adult 0.38665053972276153\n"
     ]
    }
   ],
   "source": [
    "# To fairly compare P3GM with Ryan's algorithm, we use data synthesized from public data.\n",
    "n_bins = 5\n",
    "df = pd.read_csv(\"../dataset/credit/data.csv\")\n",
    "syn_df = pd.read_csv(\"/data/takagi/synthetic_data/credit/20211229-182953/out_public_0.csv\")\n",
    "print(\"credit\", compute_tv_all_2_way_marginals(df, syn_df, n_bins))\n",
    "df = pd.read_csv(\"../dataset/isolet/data.csv\")\n",
    "syn_df = pd.read_csv(\"/data/takagi/synthetic_data/isolet/20211229-193258/out_public_0.csv\")\n",
    "print(\"isolet\", compute_tv_all_2_way_marginals(df, syn_df, n_bins))\n",
    "df = pd.read_csv(\"../dataset/esr/data.csv\")\n",
    "syn_df = pd.read_csv(\"/data/takagi/synthetic_data/esr/20211229-200104/out_public_0.csv\")\n",
    "print(\"esr\", compute_tv_all_2_way_marginals(df, syn_df, n_bins))\n",
    "df = pd.read_csv(\"../dataset/adult/data.csv\")\n",
    "syn_df = pd.read_csv(\"/data/takagi/synthetic_data/adult/20211229-200247/out_public_0.csv\")\n",
    "print(\"adult\", compute_tv_all_2_way_marginals(df, syn_df, n_bins))"
   ]
  }
 ],
 "metadata": {
  "interpreter": {
   "hash": "965292c33117b0a37e31d9c0245aa6295351ed9d5255494661c39dedda79754a"
  },
  "kernelspec": {
   "display_name": "Python 3.7.6 64-bit (conda)",
   "language": "python",
   "name": "python3"
  },
  "language_info": {
   "codemirror_mode": {
    "name": "ipython",
    "version": 3
   },
   "file_extension": ".py",
   "mimetype": "text/x-python",
   "name": "python",
   "nbconvert_exporter": "python",
   "pygments_lexer": "ipython3",
   "version": "3.7.6"
  },
  "orig_nbformat": 4
 },
 "nbformat": 4,
 "nbformat_minor": 2
}
